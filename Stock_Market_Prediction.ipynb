{
  "nbformat": 4,
  "nbformat_minor": 0,
  "metadata": {
    "colab": {
      "name": "Stock Market Prediction.ipynb",
      "provenance": [],
      "collapsed_sections": []
    },
    "kernelspec": {
      "name": "python3",
      "display_name": "Python 3"
    },
    "language_info": {
      "name": "python"
    },
    "accelerator": "GPU"
  },
  "cells": [
    {
      "cell_type": "markdown",
      "metadata": {
        "id": "lVcdNsyb7RF6"
      },
      "source": [
        "## LETS GROW MORE  BEGINNER LEVEL TASK 2"
      ]
    },
    {
      "cell_type": "markdown",
      "metadata": {
        "id": "hKNv30gM7I6D"
      },
      "source": [
        "##Stock Market Prediction And Forecasting Using Stacked LSTM"
      ]
    },
    {
      "cell_type": "markdown",
      "metadata": {
        "id": "rcY4XZT17C5S"
      },
      "source": [
        "## Importing the libraries"
      ]
    },
    {
      "cell_type": "code",
      "metadata": {
        "id": "iOt6GHt6bRwq"
      },
      "source": [
        "import numpy as np\n",
        "import matplotlib.pyplot as plt\n",
        "import pandas as pd\n",
        "\n",
        "from keras.models import Sequential\n",
        "from keras.layers import Dense\n",
        "from keras.layers import LSTM\n",
        "from keras.layers import Dropout"
      ],
      "execution_count": 3,
      "outputs": []
    },
    {
      "cell_type": "markdown",
      "metadata": {
        "id": "CQLNFgN_7igR"
      },
      "source": [
        "##READING THE DATASET THROUGH PANDAS"
      ]
    },
    {
      "cell_type": "code",
      "metadata": {
        "colab": {
          "base_uri": "https://localhost:8080/",
          "height": 363
        },
        "id": "y6KD4oXOcaRu",
        "outputId": "f1a82e41-e951-4f1a-82f9-5b950f62eafb"
      },
      "source": [
        "df=pd.read_csv(\"https://raw.githubusercontent.com/mwitiderrick/stockprice/master/NSE-TATAGLOBAL.csv\")\n",
        "df.sample(10)"
      ],
      "execution_count": 4,
      "outputs": [
        {
          "output_type": "execute_result",
          "data": {
            "text/html": [
              "<div>\n",
              "<style scoped>\n",
              "    .dataframe tbody tr th:only-of-type {\n",
              "        vertical-align: middle;\n",
              "    }\n",
              "\n",
              "    .dataframe tbody tr th {\n",
              "        vertical-align: top;\n",
              "    }\n",
              "\n",
              "    .dataframe thead th {\n",
              "        text-align: right;\n",
              "    }\n",
              "</style>\n",
              "<table border=\"1\" class=\"dataframe\">\n",
              "  <thead>\n",
              "    <tr style=\"text-align: right;\">\n",
              "      <th></th>\n",
              "      <th>Date</th>\n",
              "      <th>Open</th>\n",
              "      <th>High</th>\n",
              "      <th>Low</th>\n",
              "      <th>Last</th>\n",
              "      <th>Close</th>\n",
              "      <th>Total Trade Quantity</th>\n",
              "      <th>Turnover (Lacs)</th>\n",
              "    </tr>\n",
              "  </thead>\n",
              "  <tbody>\n",
              "    <tr>\n",
              "      <th>331</th>\n",
              "      <td>2017-05-31</td>\n",
              "      <td>148.55</td>\n",
              "      <td>151.00</td>\n",
              "      <td>147.55</td>\n",
              "      <td>149.70</td>\n",
              "      <td>149.40</td>\n",
              "      <td>3325237</td>\n",
              "      <td>4964.89</td>\n",
              "    </tr>\n",
              "    <tr>\n",
              "      <th>1675</th>\n",
              "      <td>2011-12-28</td>\n",
              "      <td>88.00</td>\n",
              "      <td>89.50</td>\n",
              "      <td>86.90</td>\n",
              "      <td>87.15</td>\n",
              "      <td>87.45</td>\n",
              "      <td>460774</td>\n",
              "      <td>405.45</td>\n",
              "    </tr>\n",
              "    <tr>\n",
              "      <th>1300</th>\n",
              "      <td>2013-06-25</td>\n",
              "      <td>133.45</td>\n",
              "      <td>135.45</td>\n",
              "      <td>132.20</td>\n",
              "      <td>134.05</td>\n",
              "      <td>133.90</td>\n",
              "      <td>1516124</td>\n",
              "      <td>2030.31</td>\n",
              "    </tr>\n",
              "    <tr>\n",
              "      <th>1019</th>\n",
              "      <td>2014-08-12</td>\n",
              "      <td>151.50</td>\n",
              "      <td>154.80</td>\n",
              "      <td>151.50</td>\n",
              "      <td>154.65</td>\n",
              "      <td>154.45</td>\n",
              "      <td>1282122</td>\n",
              "      <td>1971.83</td>\n",
              "    </tr>\n",
              "    <tr>\n",
              "      <th>892</th>\n",
              "      <td>2015-02-23</td>\n",
              "      <td>160.95</td>\n",
              "      <td>161.50</td>\n",
              "      <td>155.30</td>\n",
              "      <td>155.50</td>\n",
              "      <td>155.95</td>\n",
              "      <td>1614558</td>\n",
              "      <td>2559.44</td>\n",
              "    </tr>\n",
              "    <tr>\n",
              "      <th>785</th>\n",
              "      <td>2015-07-28</td>\n",
              "      <td>137.80</td>\n",
              "      <td>138.50</td>\n",
              "      <td>136.15</td>\n",
              "      <td>137.25</td>\n",
              "      <td>137.45</td>\n",
              "      <td>1294926</td>\n",
              "      <td>1779.17</td>\n",
              "    </tr>\n",
              "    <tr>\n",
              "      <th>651</th>\n",
              "      <td>2016-02-11</td>\n",
              "      <td>112.70</td>\n",
              "      <td>115.80</td>\n",
              "      <td>102.40</td>\n",
              "      <td>107.00</td>\n",
              "      <td>105.25</td>\n",
              "      <td>5524328</td>\n",
              "      <td>6005.93</td>\n",
              "    </tr>\n",
              "    <tr>\n",
              "      <th>641</th>\n",
              "      <td>2016-02-25</td>\n",
              "      <td>107.80</td>\n",
              "      <td>108.05</td>\n",
              "      <td>102.50</td>\n",
              "      <td>107.20</td>\n",
              "      <td>106.20</td>\n",
              "      <td>9364686</td>\n",
              "      <td>9939.52</td>\n",
              "    </tr>\n",
              "    <tr>\n",
              "      <th>683</th>\n",
              "      <td>2015-12-28</td>\n",
              "      <td>144.90</td>\n",
              "      <td>145.25</td>\n",
              "      <td>143.45</td>\n",
              "      <td>143.85</td>\n",
              "      <td>144.05</td>\n",
              "      <td>780709</td>\n",
              "      <td>1125.27</td>\n",
              "    </tr>\n",
              "    <tr>\n",
              "      <th>1557</th>\n",
              "      <td>2012-06-14</td>\n",
              "      <td>108.50</td>\n",
              "      <td>109.75</td>\n",
              "      <td>105.50</td>\n",
              "      <td>105.80</td>\n",
              "      <td>105.85</td>\n",
              "      <td>946884</td>\n",
              "      <td>1017.49</td>\n",
              "    </tr>\n",
              "  </tbody>\n",
              "</table>\n",
              "</div>"
            ],
            "text/plain": [
              "            Date    Open    High  ...   Close  Total Trade Quantity  Turnover (Lacs)\n",
              "331   2017-05-31  148.55  151.00  ...  149.40               3325237          4964.89\n",
              "1675  2011-12-28   88.00   89.50  ...   87.45                460774           405.45\n",
              "1300  2013-06-25  133.45  135.45  ...  133.90               1516124          2030.31\n",
              "1019  2014-08-12  151.50  154.80  ...  154.45               1282122          1971.83\n",
              "892   2015-02-23  160.95  161.50  ...  155.95               1614558          2559.44\n",
              "785   2015-07-28  137.80  138.50  ...  137.45               1294926          1779.17\n",
              "651   2016-02-11  112.70  115.80  ...  105.25               5524328          6005.93\n",
              "641   2016-02-25  107.80  108.05  ...  106.20               9364686          9939.52\n",
              "683   2015-12-28  144.90  145.25  ...  144.05                780709          1125.27\n",
              "1557  2012-06-14  108.50  109.75  ...  105.85                946884          1017.49\n",
              "\n",
              "[10 rows x 8 columns]"
            ]
          },
          "metadata": {
            "tags": []
          },
          "execution_count": 4
        }
      ]
    },
    {
      "cell_type": "code",
      "metadata": {
        "colab": {
          "base_uri": "https://localhost:8080/"
        },
        "id": "k9-GY55HdZjo",
        "outputId": "37361bd3-5d9d-41b4-ef26-37ffc291187c"
      },
      "source": [
        "df.shape"
      ],
      "execution_count": 5,
      "outputs": [
        {
          "output_type": "execute_result",
          "data": {
            "text/plain": [
              "(2035, 8)"
            ]
          },
          "metadata": {
            "tags": []
          },
          "execution_count": 5
        }
      ]
    },
    {
      "cell_type": "code",
      "metadata": {
        "colab": {
          "base_uri": "https://localhost:8080/"
        },
        "id": "f47J50zWdcDF",
        "outputId": "3cc25b87-7426-403a-c143-ed392b8d61db"
      },
      "source": [
        "df.info()"
      ],
      "execution_count": 6,
      "outputs": [
        {
          "output_type": "stream",
          "text": [
            "<class 'pandas.core.frame.DataFrame'>\n",
            "RangeIndex: 2035 entries, 0 to 2034\n",
            "Data columns (total 8 columns):\n",
            " #   Column                Non-Null Count  Dtype  \n",
            "---  ------                --------------  -----  \n",
            " 0   Date                  2035 non-null   object \n",
            " 1   Open                  2035 non-null   float64\n",
            " 2   High                  2035 non-null   float64\n",
            " 3   Low                   2035 non-null   float64\n",
            " 4   Last                  2035 non-null   float64\n",
            " 5   Close                 2035 non-null   float64\n",
            " 6   Total Trade Quantity  2035 non-null   int64  \n",
            " 7   Turnover (Lacs)       2035 non-null   float64\n",
            "dtypes: float64(6), int64(1), object(1)\n",
            "memory usage: 127.3+ KB\n"
          ],
          "name": "stdout"
        }
      ]
    },
    {
      "cell_type": "markdown",
      "metadata": {
        "id": "QPVCn06_7qeT"
      },
      "source": [
        "## We infer from here that there are no null values in this dataset"
      ]
    },
    {
      "cell_type": "code",
      "metadata": {
        "colab": {
          "base_uri": "https://localhost:8080/",
          "height": 300
        },
        "id": "iRosT08ddb_r",
        "outputId": "edb8042b-7e90-43ca-df4c-ec83ee86e7a7"
      },
      "source": [
        "df.describe()"
      ],
      "execution_count": 7,
      "outputs": [
        {
          "output_type": "execute_result",
          "data": {
            "text/html": [
              "<div>\n",
              "<style scoped>\n",
              "    .dataframe tbody tr th:only-of-type {\n",
              "        vertical-align: middle;\n",
              "    }\n",
              "\n",
              "    .dataframe tbody tr th {\n",
              "        vertical-align: top;\n",
              "    }\n",
              "\n",
              "    .dataframe thead th {\n",
              "        text-align: right;\n",
              "    }\n",
              "</style>\n",
              "<table border=\"1\" class=\"dataframe\">\n",
              "  <thead>\n",
              "    <tr style=\"text-align: right;\">\n",
              "      <th></th>\n",
              "      <th>Open</th>\n",
              "      <th>High</th>\n",
              "      <th>Low</th>\n",
              "      <th>Last</th>\n",
              "      <th>Close</th>\n",
              "      <th>Total Trade Quantity</th>\n",
              "      <th>Turnover (Lacs)</th>\n",
              "    </tr>\n",
              "  </thead>\n",
              "  <tbody>\n",
              "    <tr>\n",
              "      <th>count</th>\n",
              "      <td>2035.000000</td>\n",
              "      <td>2035.000000</td>\n",
              "      <td>2035.000000</td>\n",
              "      <td>2035.000000</td>\n",
              "      <td>2035.00000</td>\n",
              "      <td>2.035000e+03</td>\n",
              "      <td>2035.000000</td>\n",
              "    </tr>\n",
              "    <tr>\n",
              "      <th>mean</th>\n",
              "      <td>149.713735</td>\n",
              "      <td>151.992826</td>\n",
              "      <td>147.293931</td>\n",
              "      <td>149.474251</td>\n",
              "      <td>149.45027</td>\n",
              "      <td>2.335681e+06</td>\n",
              "      <td>3899.980565</td>\n",
              "    </tr>\n",
              "    <tr>\n",
              "      <th>std</th>\n",
              "      <td>48.664509</td>\n",
              "      <td>49.413109</td>\n",
              "      <td>47.931958</td>\n",
              "      <td>48.732570</td>\n",
              "      <td>48.71204</td>\n",
              "      <td>2.091778e+06</td>\n",
              "      <td>4570.767877</td>\n",
              "    </tr>\n",
              "    <tr>\n",
              "      <th>min</th>\n",
              "      <td>81.100000</td>\n",
              "      <td>82.800000</td>\n",
              "      <td>80.000000</td>\n",
              "      <td>81.000000</td>\n",
              "      <td>80.95000</td>\n",
              "      <td>3.961000e+04</td>\n",
              "      <td>37.040000</td>\n",
              "    </tr>\n",
              "    <tr>\n",
              "      <th>25%</th>\n",
              "      <td>120.025000</td>\n",
              "      <td>122.100000</td>\n",
              "      <td>118.300000</td>\n",
              "      <td>120.075000</td>\n",
              "      <td>120.05000</td>\n",
              "      <td>1.146444e+06</td>\n",
              "      <td>1427.460000</td>\n",
              "    </tr>\n",
              "    <tr>\n",
              "      <th>50%</th>\n",
              "      <td>141.500000</td>\n",
              "      <td>143.400000</td>\n",
              "      <td>139.600000</td>\n",
              "      <td>141.100000</td>\n",
              "      <td>141.25000</td>\n",
              "      <td>1.783456e+06</td>\n",
              "      <td>2512.030000</td>\n",
              "    </tr>\n",
              "    <tr>\n",
              "      <th>75%</th>\n",
              "      <td>157.175000</td>\n",
              "      <td>159.400000</td>\n",
              "      <td>155.150000</td>\n",
              "      <td>156.925000</td>\n",
              "      <td>156.90000</td>\n",
              "      <td>2.813594e+06</td>\n",
              "      <td>4539.015000</td>\n",
              "    </tr>\n",
              "    <tr>\n",
              "      <th>max</th>\n",
              "      <td>327.700000</td>\n",
              "      <td>328.750000</td>\n",
              "      <td>321.650000</td>\n",
              "      <td>325.950000</td>\n",
              "      <td>325.75000</td>\n",
              "      <td>2.919102e+07</td>\n",
              "      <td>55755.080000</td>\n",
              "    </tr>\n",
              "  </tbody>\n",
              "</table>\n",
              "</div>"
            ],
            "text/plain": [
              "              Open         High  ...  Total Trade Quantity  Turnover (Lacs)\n",
              "count  2035.000000  2035.000000  ...          2.035000e+03      2035.000000\n",
              "mean    149.713735   151.992826  ...          2.335681e+06      3899.980565\n",
              "std      48.664509    49.413109  ...          2.091778e+06      4570.767877\n",
              "min      81.100000    82.800000  ...          3.961000e+04        37.040000\n",
              "25%     120.025000   122.100000  ...          1.146444e+06      1427.460000\n",
              "50%     141.500000   143.400000  ...          1.783456e+06      2512.030000\n",
              "75%     157.175000   159.400000  ...          2.813594e+06      4539.015000\n",
              "max     327.700000   328.750000  ...          2.919102e+07     55755.080000\n",
              "\n",
              "[8 rows x 7 columns]"
            ]
          },
          "metadata": {
            "tags": []
          },
          "execution_count": 7
        }
      ]
    },
    {
      "cell_type": "markdown",
      "metadata": {
        "id": "cO9dyu-y74P3"
      },
      "source": [
        "### Turnover in this period varies from 37 to 55755 lacs with a mean of 3899 Lacs"
      ]
    },
    {
      "cell_type": "code",
      "metadata": {
        "colab": {
          "base_uri": "https://localhost:8080/",
          "height": 299
        },
        "id": "ToT4BZTj8Y68",
        "outputId": "252fc856-23f7-4fc0-9b2d-b29d4f918426"
      },
      "source": [
        "import seaborn as sns\n",
        "from matplotlib import style\n",
        "style.use(\"ggplot\")\n",
        "sns.scatterplot(x=\"Total Trade Quantity\" , y=\"Turnover (Lacs)\", data=df,color=\"black\")"
      ],
      "execution_count": 8,
      "outputs": [
        {
          "output_type": "execute_result",
          "data": {
            "text/plain": [
              "<matplotlib.axes._subplots.AxesSubplot at 0x7f6e17593210>"
            ]
          },
          "metadata": {
            "tags": []
          },
          "execution_count": 8
        },
        {
          "output_type": "display_data",
          "data": {
            "image/png": "[encoded data removed]",
            "text/plain": [
              "<Figure size 432x288 with 1 Axes>"
            ]
          },
          "metadata": {
            "tags": []
          }
        }
      ]
    },
    {
      "cell_type": "markdown",
      "metadata": {
        "id": "zhUnsEKt8Laa"
      },
      "source": [
        "\n",
        "\n",
        "---\n",
        "\n"
      ]
    },
    {
      "cell_type": "markdown",
      "metadata": {
        "id": "N3SoNrd98NTp"
      },
      "source": [
        "### Time to split our data into independent and dependent features"
      ]
    },
    {
      "cell_type": "code",
      "metadata": {
        "colab": {
          "base_uri": "https://localhost:8080/"
        },
        "id": "smYyZtL0cu_b",
        "outputId": "895c3fc7-9913-43ad-c1a6-1930efef9dc5"
      },
      "source": [
        "training=df.iloc[:, 1:2].values\n",
        "training"
      ],
      "execution_count": 9,
      "outputs": [
        {
          "output_type": "execute_result",
          "data": {
            "text/plain": [
              "array([[234.05],\n",
              "       [234.55],\n",
              "       [240.  ],\n",
              "       ...,\n",
              "       [121.8 ],\n",
              "       [120.3 ],\n",
              "       [122.1 ]])"
            ]
          },
          "metadata": {
            "tags": []
          },
          "execution_count": 9
        }
      ]
    },
    {
      "cell_type": "code",
      "metadata": {
        "colab": {
          "base_uri": "https://localhost:8080/"
        },
        "id": "2BfgLL1Fc9wK",
        "outputId": "83e0ac69-f82a-4ee4-d277-048eec8bdb2c"
      },
      "source": [
        "from sklearn.preprocessing import MinMaxScaler as msc\n",
        "scaler = msc(feature_range = (0, 1))\n",
        "training_new = scaler.fit_transform(training)\n",
        "training_new"
      ],
      "execution_count": 10,
      "outputs": [
        {
          "output_type": "execute_result",
          "data": {
            "text/plain": [
              "array([[0.6202352 ],\n",
              "       [0.62226277],\n",
              "       [0.64436334],\n",
              "       ...,\n",
              "       [0.16504461],\n",
              "       [0.15896188],\n",
              "       [0.16626115]])"
            ]
          },
          "metadata": {
            "tags": []
          },
          "execution_count": 10
        }
      ]
    },
    {
      "cell_type": "code",
      "metadata": {
        "id": "E_cEpkhbdWgN"
      },
      "source": [
        "X_train = []\n",
        "y_train = []\n",
        "for x in range(60, 2035):\n",
        "    X_train.append(training_new[x-60:x, 0])\n",
        "    y_train.append(training_new[x, 0])\n",
        "X_train, y_train = np.array(X_train), np.array(y_train)"
      ],
      "execution_count": 11,
      "outputs": []
    },
    {
      "cell_type": "code",
      "metadata": {
        "id": "XkvdnccHd7D7"
      },
      "source": [
        "X_train = np.reshape(X_train, (X_train.shape[0], X_train.shape[1], 1))"
      ],
      "execution_count": 12,
      "outputs": []
    },
    {
      "cell_type": "code",
      "metadata": {
        "id": "2jyavE2NeUTw"
      },
      "source": [
        "#Making RNN sequential layer \n",
        "reg = Sequential()\n",
        "\n",
        "#Adding the first LSTM layerand performing some dropout regularisation\n",
        "reg.add(LSTM(units = 50, return_sequences = True, input_shape = (X_train.shape[1], 1)))\n",
        "reg.add(Dropout(0.2))"
      ],
      "execution_count": 13,
      "outputs": []
    },
    {
      "cell_type": "code",
      "metadata": {
        "id": "0RzTgbAYeknm"
      },
      "source": [
        "#Adding the second LSTM layerand performing some dropout\n",
        "reg.add(LSTM(units = 50, return_sequences = True))\n",
        "reg.add(Dropout(0.2))"
      ],
      "execution_count": 14,
      "outputs": []
    },
    {
      "cell_type": "code",
      "metadata": {
        "id": "AvVnWpNFeqYD"
      },
      "source": [
        "#Adding the third LSTM layer and performing some dropout\n",
        "reg.add(LSTM(units = 50, return_sequences = True))\n",
        "reg.add(Dropout(0.2))"
      ],
      "execution_count": 15,
      "outputs": []
    },
    {
      "cell_type": "code",
      "metadata": {
        "id": "8T6oTzMO4KU6"
      },
      "source": [
        "#Adding the fourth LSTM layer and performing some dropout\n",
        "reg.add(LSTM(units = 50))\n",
        "reg.add(Dropout(0.2))"
      ],
      "execution_count": 16,
      "outputs": []
    },
    {
      "cell_type": "code",
      "metadata": {
        "colab": {
          "base_uri": "https://localhost:8080/"
        },
        "id": "nZ8p4JSzfUMB",
        "outputId": "e00246ed-69f5-4f37-f6c2-0aca55cb0672"
      },
      "source": [
        "#Fitting and training the data\n",
        "reg.add(Dense(units = 1))\n",
        "\n",
        "reg.compile(optimizer = 'adam', loss = 'mean_squared_error')\n",
        "\n",
        "reg.fit(X_train, y_train, epochs = 100, batch_size = 32)"
      ],
      "execution_count": 17,
      "outputs": [
        {
          "output_type": "stream",
          "text": [
            "Epoch 1/100\n",
            "62/62 [==============================] - 31s 61ms/step - loss: 0.0224\n",
            "Epoch 2/100\n",
            "62/62 [==============================] - 4s 60ms/step - loss: 0.0039\n",
            "Epoch 3/100\n",
            "62/62 [==============================] - 4s 60ms/step - loss: 0.0026\n",
            "Epoch 4/100\n",
            "62/62 [==============================] - 4s 61ms/step - loss: 0.0029\n",
            "Epoch 5/100\n",
            "62/62 [==============================] - 4s 61ms/step - loss: 0.0028\n",
            "Epoch 6/100\n",
            "62/62 [==============================] - 4s 60ms/step - loss: 0.0022\n",
            "Epoch 7/100\n",
            "62/62 [==============================] - 4s 60ms/step - loss: 0.0020\n",
            "Epoch 8/100\n",
            "62/62 [==============================] - 4s 60ms/step - loss: 0.0018\n",
            "Epoch 9/100\n",
            "62/62 [==============================] - 4s 61ms/step - loss: 0.0023\n",
            "Epoch 10/100\n",
            "62/62 [==============================] - 4s 60ms/step - loss: 0.0019\n",
            "Epoch 11/100\n",
            "62/62 [==============================] - 4s 61ms/step - loss: 0.0018\n",
            "Epoch 12/100\n",
            "62/62 [==============================] - 4s 60ms/step - loss: 0.0017\n",
            "Epoch 13/100\n",
            "62/62 [==============================] - 4s 60ms/step - loss: 0.0016\n",
            "Epoch 14/100\n",
            "62/62 [==============================] - 4s 60ms/step - loss: 0.0016\n",
            "Epoch 15/100\n",
            "62/62 [==============================] - 4s 61ms/step - loss: 0.0018\n",
            "Epoch 16/100\n",
            "62/62 [==============================] - 4s 60ms/step - loss: 0.0015\n",
            "Epoch 17/100\n",
            "62/62 [==============================] - 4s 60ms/step - loss: 0.0017\n",
            "Epoch 18/100\n",
            "62/62 [==============================] - 4s 61ms/step - loss: 0.0016\n",
            "Epoch 19/100\n",
            "62/62 [==============================] - 4s 60ms/step - loss: 0.0014\n",
            "Epoch 20/100\n",
            "62/62 [==============================] - 4s 61ms/step - loss: 0.0014\n",
            "Epoch 21/100\n",
            "62/62 [==============================] - 4s 61ms/step - loss: 0.0014\n",
            "Epoch 22/100\n",
            "62/62 [==============================] - 4s 61ms/step - loss: 0.0013\n",
            "Epoch 23/100\n",
            "62/62 [==============================] - 4s 60ms/step - loss: 0.0013\n",
            "Epoch 24/100\n",
            "62/62 [==============================] - 4s 60ms/step - loss: 0.0012\n",
            "Epoch 25/100\n",
            "62/62 [==============================] - 4s 60ms/step - loss: 0.0013\n",
            "Epoch 26/100\n",
            "62/62 [==============================] - 4s 61ms/step - loss: 0.0014\n",
            "Epoch 27/100\n",
            "62/62 [==============================] - 4s 61ms/step - loss: 0.0012\n",
            "Epoch 28/100\n",
            "62/62 [==============================] - 4s 61ms/step - loss: 0.0013\n",
            "Epoch 29/100\n",
            "62/62 [==============================] - 4s 60ms/step - loss: 0.0012\n",
            "Epoch 30/100\n",
            "62/62 [==============================] - 4s 60ms/step - loss: 0.0011\n",
            "Epoch 31/100\n",
            "62/62 [==============================] - 4s 61ms/step - loss: 0.0011\n",
            "Epoch 32/100\n",
            "62/62 [==============================] - 4s 60ms/step - loss: 0.0011\n",
            "Epoch 33/100\n",
            "62/62 [==============================] - 4s 60ms/step - loss: 0.0011\n",
            "Epoch 34/100\n",
            "62/62 [==============================] - 4s 60ms/step - loss: 0.0012\n",
            "Epoch 35/100\n",
            "62/62 [==============================] - 4s 61ms/step - loss: 0.0010\n",
            "Epoch 36/100\n",
            "62/62 [==============================] - 4s 61ms/step - loss: 0.0012\n",
            "Epoch 37/100\n",
            "62/62 [==============================] - 4s 60ms/step - loss: 9.6473e-04\n",
            "Epoch 38/100\n",
            "62/62 [==============================] - 4s 61ms/step - loss: 8.3080e-04\n",
            "Epoch 39/100\n",
            "62/62 [==============================] - 4s 61ms/step - loss: 9.2704e-04\n",
            "Epoch 40/100\n",
            "62/62 [==============================] - 4s 61ms/step - loss: 0.0011\n",
            "Epoch 41/100\n",
            "62/62 [==============================] - 4s 61ms/step - loss: 9.0301e-04\n",
            "Epoch 42/100\n",
            "62/62 [==============================] - 4s 60ms/step - loss: 0.0012\n",
            "Epoch 43/100\n",
            "62/62 [==============================] - 4s 61ms/step - loss: 0.0010\n",
            "Epoch 44/100\n",
            "62/62 [==============================] - 4s 61ms/step - loss: 7.4501e-04\n",
            "Epoch 45/100\n",
            "62/62 [==============================] - 4s 61ms/step - loss: 0.0010\n",
            "Epoch 46/100\n",
            "62/62 [==============================] - 4s 61ms/step - loss: 9.5556e-04\n",
            "Epoch 47/100\n",
            "62/62 [==============================] - 4s 61ms/step - loss: 8.7738e-04\n",
            "Epoch 48/100\n",
            "62/62 [==============================] - 4s 61ms/step - loss: 8.2223e-04\n",
            "Epoch 49/100\n",
            "62/62 [==============================] - 4s 60ms/step - loss: 9.0797e-04\n",
            "Epoch 50/100\n",
            "62/62 [==============================] - 4s 61ms/step - loss: 7.8281e-04\n",
            "Epoch 51/100\n",
            "62/62 [==============================] - 4s 60ms/step - loss: 7.4674e-04\n",
            "Epoch 52/100\n",
            "62/62 [==============================] - 4s 61ms/step - loss: 8.4192e-04\n",
            "Epoch 53/100\n",
            "62/62 [==============================] - 4s 61ms/step - loss: 7.2508e-04\n",
            "Epoch 54/100\n",
            "62/62 [==============================] - 4s 61ms/step - loss: 7.5076e-04\n",
            "Epoch 55/100\n",
            "62/62 [==============================] - 4s 62ms/step - loss: 8.9742e-04\n",
            "Epoch 56/100\n",
            "62/62 [==============================] - 4s 62ms/step - loss: 7.5002e-04\n",
            "Epoch 57/100\n",
            "62/62 [==============================] - 4s 62ms/step - loss: 7.8310e-04\n",
            "Epoch 58/100\n",
            "62/62 [==============================] - 4s 62ms/step - loss: 7.4339e-04\n",
            "Epoch 59/100\n",
            "62/62 [==============================] - 4s 61ms/step - loss: 7.9136e-04\n",
            "Epoch 60/100\n",
            "62/62 [==============================] - 4s 62ms/step - loss: 8.1265e-04\n",
            "Epoch 61/100\n",
            "62/62 [==============================] - 4s 62ms/step - loss: 9.0601e-04\n",
            "Epoch 62/100\n",
            "62/62 [==============================] - 4s 61ms/step - loss: 7.7252e-04\n",
            "Epoch 63/100\n",
            "62/62 [==============================] - 4s 61ms/step - loss: 8.2711e-04\n",
            "Epoch 64/100\n",
            "62/62 [==============================] - 4s 61ms/step - loss: 6.8411e-04\n",
            "Epoch 65/100\n",
            "62/62 [==============================] - 4s 61ms/step - loss: 7.3343e-04\n",
            "Epoch 66/100\n",
            "62/62 [==============================] - 4s 60ms/step - loss: 8.0178e-04\n",
            "Epoch 67/100\n",
            "62/62 [==============================] - 4s 60ms/step - loss: 7.2285e-04\n",
            "Epoch 68/100\n",
            "62/62 [==============================] - 4s 60ms/step - loss: 7.8108e-04\n",
            "Epoch 69/100\n",
            "62/62 [==============================] - 4s 61ms/step - loss: 6.1569e-04\n",
            "Epoch 70/100\n",
            "62/62 [==============================] - 4s 60ms/step - loss: 7.0274e-04\n",
            "Epoch 71/100\n",
            "62/62 [==============================] - 4s 61ms/step - loss: 6.4929e-04\n",
            "Epoch 72/100\n",
            "62/62 [==============================] - 4s 61ms/step - loss: 6.1217e-04\n",
            "Epoch 73/100\n",
            "62/62 [==============================] - 4s 61ms/step - loss: 6.2536e-04\n",
            "Epoch 74/100\n",
            "62/62 [==============================] - 4s 61ms/step - loss: 8.6629e-04\n",
            "Epoch 75/100\n",
            "62/62 [==============================] - 4s 61ms/step - loss: 7.7987e-04\n",
            "Epoch 76/100\n",
            "62/62 [==============================] - 4s 62ms/step - loss: 5.9123e-04\n",
            "Epoch 77/100\n",
            "62/62 [==============================] - 4s 61ms/step - loss: 5.6680e-04\n",
            "Epoch 78/100\n",
            "62/62 [==============================] - 4s 62ms/step - loss: 6.1363e-04\n",
            "Epoch 79/100\n",
            "62/62 [==============================] - 4s 62ms/step - loss: 6.9505e-04\n",
            "Epoch 80/100\n",
            "62/62 [==============================] - 4s 62ms/step - loss: 7.7577e-04\n",
            "Epoch 81/100\n",
            "62/62 [==============================] - 4s 62ms/step - loss: 6.9684e-04\n",
            "Epoch 82/100\n",
            "62/62 [==============================] - 4s 61ms/step - loss: 7.2834e-04\n",
            "Epoch 83/100\n",
            "62/62 [==============================] - 4s 61ms/step - loss: 6.5264e-04\n",
            "Epoch 84/100\n",
            "62/62 [==============================] - 4s 61ms/step - loss: 6.8850e-04\n",
            "Epoch 85/100\n",
            "62/62 [==============================] - 4s 62ms/step - loss: 5.4300e-04\n",
            "Epoch 86/100\n",
            "62/62 [==============================] - 4s 61ms/step - loss: 6.7299e-04\n",
            "Epoch 87/100\n",
            "62/62 [==============================] - 4s 62ms/step - loss: 5.8401e-04\n",
            "Epoch 88/100\n",
            "62/62 [==============================] - 4s 61ms/step - loss: 5.3424e-04\n",
            "Epoch 89/100\n",
            "62/62 [==============================] - 4s 60ms/step - loss: 6.2415e-04\n",
            "Epoch 90/100\n",
            "62/62 [==============================] - 4s 60ms/step - loss: 7.1417e-04\n",
            "Epoch 91/100\n",
            "62/62 [==============================] - 4s 61ms/step - loss: 6.5865e-04\n",
            "Epoch 92/100\n",
            "62/62 [==============================] - 4s 60ms/step - loss: 7.1580e-04\n",
            "Epoch 93/100\n",
            "62/62 [==============================] - 4s 61ms/step - loss: 7.5679e-04\n",
            "Epoch 94/100\n",
            "62/62 [==============================] - 4s 61ms/step - loss: 6.9617e-04\n",
            "Epoch 95/100\n",
            "62/62 [==============================] - 4s 60ms/step - loss: 6.2252e-04\n",
            "Epoch 96/100\n",
            "62/62 [==============================] - 4s 61ms/step - loss: 5.2558e-04\n",
            "Epoch 97/100\n",
            "62/62 [==============================] - 4s 61ms/step - loss: 5.7963e-04\n",
            "Epoch 98/100\n",
            "62/62 [==============================] - 4s 61ms/step - loss: 6.1186e-04\n",
            "Epoch 99/100\n",
            "62/62 [==============================] - 4s 60ms/step - loss: 7.4833e-04\n",
            "Epoch 100/100\n",
            "62/62 [==============================] - 4s 60ms/step - loss: 5.4872e-04\n"
          ],
          "name": "stdout"
        },
        {
          "output_type": "execute_result",
          "data": {
            "text/plain": [
              "<keras.callbacks.History at 0x7f6e169f4d10>"
            ]
          },
          "metadata": {
            "tags": []
          },
          "execution_count": 17
        }
      ]
    },
    {
      "cell_type": "markdown",
      "metadata": {
        "id": "NS881WsNrMXI"
      },
      "source": [
        "#### Testing with 2017 dataset for determining the model accuracy"
      ]
    },
    {
      "cell_type": "code",
      "metadata": {
        "id": "DtaLKtnlgGki",
        "colab": {
          "base_uri": "https://localhost:8080/"
        },
        "outputId": "a7b5a755-6664-40b8-edfe-6946fd6530c4"
      },
      "source": [
        "# Getting the real stock price of 2017\n",
        "dataset_test = pd.read_csv('https://raw.githubusercontent.com/mwitiderrick/stockprice/master/tatatest.csv')\n",
        "real_stock_price = dataset_test.iloc[:, 1:2].values\n",
        "real_stock_price"
      ],
      "execution_count": 18,
      "outputs": [
        {
          "output_type": "execute_result",
          "data": {
            "text/plain": [
              "array([[220.1 ],\n",
              "       [221.1 ],\n",
              "       [229.45],\n",
              "       [230.3 ],\n",
              "       [237.7 ],\n",
              "       [237.1 ],\n",
              "       [229.7 ],\n",
              "       [226.25],\n",
              "       [215.  ],\n",
              "       [215.  ],\n",
              "       [215.5 ],\n",
              "       [208.  ],\n",
              "       [217.  ],\n",
              "       [223.5 ],\n",
              "       [230.  ],\n",
              "       [234.55]])"
            ]
          },
          "metadata": {
            "tags": []
          },
          "execution_count": 18
        }
      ]
    },
    {
      "cell_type": "code",
      "metadata": {
        "id": "7ozU-PwUuuNg"
      },
      "source": [
        "\n",
        "# Getting the predicted stock price of 2017\n",
        "dataset_total = pd.concat((df['Open'], dataset_test['Open']), axis = 0)\n",
        "inputs = dataset_total[len(dataset_total) - len(dataset_test) - 60:].values\n",
        "inputs = inputs.reshape(-1,1)\n",
        "inputs = scaler.transform(inputs)\n",
        "X_test = []\n",
        "\n",
        "for i in range(60, 76):\n",
        "    X_test.append(inputs[i-60:i, 0])\n",
        "\n",
        "X_test = np.array(X_test)\n",
        "X_test = np.reshape(X_test, (X_test.shape[0], X_test.shape[1], 1))\n",
        "predicted_stock_price = reg.predict(X_test)\n",
        "\n",
        "predicted_stock_price = scaler.inverse_transform(predicted_stock_price)"
      ],
      "execution_count": 22,
      "outputs": []
    },
    {
      "cell_type": "code",
      "metadata": {
        "colab": {
          "base_uri": "https://localhost:8080/",
          "height": 299
        },
        "id": "KnJ9OANw16CO",
        "outputId": "85003363-349c-48d3-ade2-1d5478bbd1d9"
      },
      "source": [
        "#plotting\n",
        "\n",
        "plt.plot(real_stock_price, color = 'blue',label = 'Real TATA Stock Price')\n",
        "plt.plot(predicted_stock_price, color = 'black',label = 'Predicted TAT Stock Price')\n",
        "plt.title('TATA Stock Price Prediction')\n",
        "plt.xlabel('Time in Years')\n",
        "plt.ylabel('TATA Stock Price')\n",
        "plt.legend()\n",
        "plt.show()\n"
      ],
      "execution_count": 23,
      "outputs": [
        {
          "output_type": "display_data",
          "data": {
            "image/png": "[encoded data removed]",
            "text/plain": [
              "<Figure size 432x288 with 1 Axes>"
            ]
          },
          "metadata": {
            "tags": [],
            "needs_background": "light"
          }
        }
      ]
    }
  ]
}
